{
 "cells": [
  {
   "cell_type": "markdown",
   "metadata": {},
   "source": [
    "# Simple Location Based Sevice"
   ]
  },
  {
   "cell_type": "markdown",
   "metadata": {},
   "source": [
    "This program returns nearby places of interest given the location of a vehicle. "
   ]
  },
  {
   "cell_type": "code",
   "execution_count": 1,
   "metadata": {
    "collapsed": true
   },
   "outputs": [],
   "source": [
    "import json\n",
    "from math import radians, cos, sin, asin, sqrt"
   ]
  },
  {
   "cell_type": "code",
   "execution_count": 2,
   "metadata": {
    "collapsed": true
   },
   "outputs": [],
   "source": [
    "def haversine(lon1, lat1, lon2, lat2):\n",
    "    \"\"\"\n",
    "    Calculate the great circle distance between two points \n",
    "    on the earth (specified in decimal degrees)\n",
    "    \"\"\"\n",
    "    # convert decimal degrees to radians \n",
    "    lon1, lat1, lon2, lat2 = map(radians, [lon1, lat1, lon2, lat2])\n",
    "\n",
    "    # haversine formula \n",
    "    dlon = lon2 - lon1 \n",
    "    dlat = lat2 - lat1 \n",
    "    a = sin(dlat/2)**2 + cos(lat1) * cos(lat2) * sin(dlon/2)**2\n",
    "    c = 2 * asin(sqrt(a)) \n",
    "    r = 6371 # Radius of earth in kilometers. Use 3956 for miles\n",
    "    return c * r"
   ]
  },
  {
   "cell_type": "markdown",
   "metadata": {},
   "source": [
    "Data about restaurants, parks, fire stations, police stations and bus stops are stored in json format. Note that these files only contain data about Bangalore City."
   ]
  },
  {
   "cell_type": "code",
   "execution_count": 3,
   "metadata": {
    "collapsed": true
   },
   "outputs": [],
   "source": [
    "with open('restaurants.json') as res_data:\n",
    "    restaurantsData = json.load(res_data)"
   ]
  },
  {
   "cell_type": "code",
   "execution_count": 4,
   "metadata": {
    "collapsed": true
   },
   "outputs": [],
   "source": [
    "with open('fireStations.json') as res_data:\n",
    "    fireStationsData = json.load(res_data)"
   ]
  },
  {
   "cell_type": "code",
   "execution_count": 5,
   "metadata": {
    "collapsed": false
   },
   "outputs": [],
   "source": [
    "with open('parks.json') as res_data:\n",
    "    parksData = json.load(res_data)"
   ]
  },
  {
   "cell_type": "code",
   "execution_count": 6,
   "metadata": {
    "collapsed": false
   },
   "outputs": [],
   "source": [
    "with open('policeStation.json') as res_data:\n",
    "    policeStationData = json.load(res_data)"
   ]
  },
  {
   "cell_type": "code",
   "execution_count": 7,
   "metadata": {
    "collapsed": true
   },
   "outputs": [],
   "source": [
    "with open('busStops.json') as res_data:\n",
    "    busStopsData = json.load(res_data)"
   ]
  },
  {
   "cell_type": "markdown",
   "metadata": {},
   "source": [
    "Latitude and Longitudes of different points in Bangalore. "
   ]
  },
  {
   "cell_type": "code",
   "execution_count": 8,
   "metadata": {
    "collapsed": true
   },
   "outputs": [],
   "source": [
    "#lat = 12.961009 #domlur\n",
    "#lon = 77.637938\n",
    "#lat = 12.952240 #marathalli\n",
    "#lon = 77.700233\n",
    "\n",
    "#lat = 12.937037 #Sony world signal\n",
    "#lon = 77.626488\n",
    "lat = 12.876535\n",
    "lon = 77.566612"
   ]
  },
  {
   "cell_type": "markdown",
   "metadata": {},
   "source": [
    "Menu driven program to find services."
   ]
  },
  {
   "cell_type": "code",
   "execution_count": 13,
   "metadata": {
    "collapsed": false
   },
   "outputs": [],
   "source": [
    "def askUser(lat, lon):\n",
    "    print \"What services would you like to search for?\"\n",
    "    print \"1. Restaurants\"\n",
    "    print \"2. Bus Stops\"\n",
    "    print \"3. Parks\"\n",
    "    print \"4. Police Station\"\n",
    "    print \"5. Fire Stations\"\n",
    "    pref = int(raw_input(\"Please choose an option : \"))\n",
    "    dist = int(raw_input(\"Please input the nearby distance : \"))\n",
    "    if(pref == 1):\n",
    "        listOfFeasibleRestaurants = []\n",
    "        for eachRes in restaurantsData:\n",
    "            try:\n",
    "                resLatitude = float(eachRes['latitude'])\n",
    "                resLongitude = float(eachRes['longitude'])\n",
    "                distFromYourLocation = haversine(lon, lat, resLongitude, resLatitude)\n",
    "                if(distFromYourLocation < dist):\n",
    "                    listOfFeasibleRestaurants.append(eachRes)\n",
    "            except Exception,e:\n",
    "                #print eachRes['id']\n",
    "                #print repr(e)\n",
    "                continue\n",
    "        print listOfFeasibleRestaurants\n",
    "    elif(pref == 2):\n",
    "        listOfFeasibleBusStops = []\n",
    "        for eachRes in busStopsData:\n",
    "            try:\n",
    "                resLatitude = float(eachRes['latitude'])\n",
    "                resLongitude = float(eachRes['longitude'])\n",
    "                distFromYourLocation = haversine(lon, lat, resLongitude, resLatitude)\n",
    "                if(distFromYourLocation < dist):\n",
    "                    listOfFeasibleBusStops.append(eachRes)\n",
    "            except Exception,e:\n",
    "                #print eachRes['id']\n",
    "                #print repr(e)\n",
    "                continue\n",
    "        print listOfFeasibleBusStops\n",
    "    elif(pref == 3):\n",
    "        listOfFeasibleParks = []\n",
    "        for eachRes in parksData:\n",
    "            try:\n",
    "                resLatitude = float(eachRes['latitude'])\n",
    "                resLongitude = float(eachRes['longitude'])\n",
    "                distFromYourLocation = haversine(lon, lat, resLongitude, resLatitude)\n",
    "            \n",
    "                if(distFromYourLocation < dist):\n",
    "                    listOfFeasibleParks.append(eachRes)\n",
    "            except Exception,e:\n",
    "                #print eachRes['id']\n",
    "                #print repr(e)\n",
    "                continue\n",
    "        print listOfFeasibleParks\n",
    "\n",
    "    elif(pref == 4):\n",
    "        listOfFeasiblePoliceStations = []\n",
    "        for eachRes in policeStationData:\n",
    "            try:\n",
    "                resLatitude = float(eachRes['latitude'])\n",
    "                resLongitude = float(eachRes['longitude'])\n",
    "                distFromYourLocation = haversine(lon, lat, resLongitude, resLatitude)\n",
    "            \n",
    "                if(distFromYourLocation < dist):\n",
    "                    listOfFeasiblePoliceStations.append(eachRes)\n",
    "            except Exception,e:\n",
    "                #print eachRes['id']\n",
    "                #print repr(e)\n",
    "                continue\n",
    "        print listOfFeasiblePoliceStations\n",
    "\n",
    "    elif(pref == 5):\n",
    "        listOfFeasibleFireStations = []\n",
    "        for eachRes in fireStationsData:\n",
    "            try:\n",
    "                resLatitude = float(eachRes['latitude'])\n",
    "                resLongitude = float(eachRes['longitude'])\n",
    "                distFromYourLocation = haversine(lon, lat, resLongitude, resLatitude)            \n",
    "                if(distFromYourLocation < dist):\n",
    "                    listOfFeasibleFireStations.append(eachRes)\n",
    "            except Exception,e:\n",
    "                #print eachRes['id']\n",
    "                #print repr(e)\n",
    "                continue\n",
    "        print listOfFeasibleFireStations\n",
    "\n",
    "    else:\n",
    "        print \"invalid input. Please choose a valid option.\"\n",
    "        #askUser()"
   ]
  },
  {
   "cell_type": "code",
   "execution_count": 14,
   "metadata": {
    "collapsed": false
   },
   "outputs": [
    {
     "name": "stdout",
     "output_type": "stream",
     "text": [
      "What services would you like to search for?\n",
      "1. Restaurants\n",
      "2. Bus Stops\n",
      "3. Parks\n",
      "4. Police Station\n",
      "5. Fire Stations\n",
      "Please choose an option : 3\n",
      "Please input the nearby distance : 2\n",
      "[{u'latitude': 12.870261, u'SL No': 730, u'Address of the Park': u'Maintenance of park at Royal lake front Residency layout, in Bommanahalli Zone', u'longitude': 77.576958}, {u'latitude': 12.889049, u'SL No': 734, u'Address of the Park': u'Maintenance of park at RBI layout, 8th main 7th cross,in Bommanahalli Zone', u'longitude': 77.578253}, {u'latitude': 12.866308, u'SL No': 744, u'Address of the Park': u'Maintainance of park at Royal Residency layout Avalahalli (Agusthyavana South)in Bommanahalli Zone', u'longitude': 77.562587}, {u'latitude': 12.867814, u'SL No': 745, u'Address of the Park': u'Maintainance of park at Royal Residency layout Avalahalli (Agusthyavana West)in Bommanahalli Zone', u'longitude': 77.559926}, {u'latitude': 12.865362, u'SL No': 746, u'Address of the Park': u'Maintainance of Park at Royal residency layout Avalahalli in Bommanahalli Zone', u'longitude': 77.565312}, {u'latitude': 12.884205, u'SL No': 747, u'Address of the Park': u'Maintainance of Park at Konanakunte Anjanapura road, Govt Hospital Quarters Premises in Bommanahalli Zone', u'longitude': 77.567008}, {u'latitude': 12.881006, u'SL No': 750, u'Address of the Park': u'Maintainance of park at Narayana Nagara in Bommanahalli Zone', u'longitude': 77.557825}]\n"
     ]
    }
   ],
   "source": [
    "askUser(lat, lon)"
   ]
  }
 ],
 "metadata": {
  "kernelspec": {
   "display_name": "Python 2",
   "language": "python",
   "name": "python2"
  },
  "language_info": {
   "codemirror_mode": {
    "name": "ipython",
    "version": 2
   },
   "file_extension": ".py",
   "mimetype": "text/x-python",
   "name": "python",
   "nbconvert_exporter": "python",
   "pygments_lexer": "ipython2",
   "version": "2.7.6"
  }
 },
 "nbformat": 4,
 "nbformat_minor": 0
}
