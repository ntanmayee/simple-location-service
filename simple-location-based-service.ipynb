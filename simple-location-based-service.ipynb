{
 "cells": [
  {
   "cell_type": "markdown",
   "metadata": {},
   "source": [
    "# Simple Location Based Sevice\n",
    "\n",
    "This program returns nearby places of interest given the location of a vehicle. "
   ]
  },
  {
   "cell_type": "code",
   "execution_count": 1,
   "metadata": {
    "collapsed": true
   },
   "outputs": [],
   "source": [
    "import json #to import json module\n",
    "from math import radians, cos, sin, asin, sqrt"
   ]
  },
  {
   "cell_type": "code",
   "execution_count": 2,
   "metadata": {
    "collapsed": true
   },
   "outputs": [],
   "source": [
    "def haversine(lon1, lat1, lon2, lat2):\n",
    "    \"\"\"\n",
    "    Calculate the distance between two points on the earth in Kms\n",
    "    \"\"\"\n",
    "    # convert decimal degrees to radians \n",
    "    lon1, lat1, lon2, lat2 = map(radians, [lon1, lat1, lon2, lat2])\n",
    "\n",
    "    # haversine formula \n",
    "    dlon = lon2 - lon1 \n",
    "    dlat = lat2 - lat1 \n",
    "    a = sin(dlat/2)**2 + cos(lat1) * cos(lat2) * sin(dlon/2)**2\n",
    "    c = 2 * asin(sqrt(a)) \n",
    "    r = 6371 # Radius of earth in kilometers. Use 3956 for miles\n",
    "    return c * r"
   ]
  },
  {
   "cell_type": "markdown",
   "metadata": {},
   "source": [
    "Data about restaurants, parks, fire stations, police stations and bus stops are stored in json format. "
   ]
  },
  {
   "cell_type": "code",
   "execution_count": 3,
   "metadata": {
    "collapsed": false
   },
   "outputs": [],
   "source": [
    "with open('restaurants.json') as res_data:#reading json data of restaurants\n",
    "    restaurantsData = json.load(res_data)"
   ]
  },
  {
   "cell_type": "code",
   "execution_count": 4,
   "metadata": {
    "collapsed": false
   },
   "outputs": [],
   "source": [
    "with open('fireStations.json') as res_data:#reading json data of fire stations\n",
    "    fireStationsData = json.load(res_data)"
   ]
  },
  {
   "cell_type": "code",
   "execution_count": 5,
   "metadata": {
    "collapsed": false
   },
   "outputs": [],
   "source": [
    "with open('parks.json') as res_data:#reading json data of parks\n",
    "    parksData = json.load(res_data)"
   ]
  },
  {
   "cell_type": "code",
   "execution_count": 6,
   "metadata": {
    "collapsed": false
   },
   "outputs": [],
   "source": [
    "with open('policeStation.json') as res_data:#reading json data of police stations\n",
    "    policeStationData = json.load(res_data)"
   ]
  },
  {
   "cell_type": "code",
   "execution_count": 7,
   "metadata": {
    "collapsed": true
   },
   "outputs": [],
   "source": [
    "with open('busStops.json') as res_data:#reading json data of bus Stops\n",
    "    busStopsData = json.load(res_data)"
   ]
  },
  {
   "cell_type": "markdown",
   "metadata": {},
   "source": [
    "Latitude and Longitudes of different points in Bangalore. "
   ]
  },
  {
   "cell_type": "code",
   "execution_count": 8,
   "metadata": {
    "collapsed": true
   },
   "outputs": [],
   "source": [
    "#lat = 12.961009 #domlur\n",
    "#lon = 77.637938\n",
    "#lat = 12.952240 #marathalli\n",
    "#lon = 77.700233\n",
    "#lat = 12.937037 #Sony world signal\n",
    "#lon = 77.626488\n",
    "lat = 12.876535\n",
    "lon = 77.566612"
   ]
  },
  {
   "cell_type": "markdown",
   "metadata": {},
   "source": [
    "Menu driven program to find services."
   ]
  },
  {
   "cell_type": "code",
   "execution_count": 9,
   "metadata": {
    "collapsed": true
   },
   "outputs": [],
   "source": [
    "def returnFacilities(pref, dist):\n",
    "    if(pref == 1):#searching for restaurants\n",
    "        listOfFeasibleRestaurants = []\n",
    "        for eachRes in restaurantsData:#iterating over each result in restaurants data list\n",
    "            try:\n",
    "                restData = []\n",
    "                resLatitude = float(eachRes['latitude'])\n",
    "                resLongitude = float(eachRes['longitude'])\n",
    "                distFromYourLocation = haversine(lon, lat, resLongitude, resLatitude)\n",
    "                if(distFromYourLocation < dist):\n",
    "                    #storing the restaurant's name, latitude and longitude \n",
    "                    resName = eachRes['name']\n",
    "                    restData.append(resName)\n",
    "                    restData.append(resLatitude)\n",
    "                    restData.append(resLongitude)\n",
    "                    listOfFeasibleRestaurants.append(restData)\n",
    "            except Exception,e:\n",
    "                #print eachRes['id']\n",
    "                #print repr(e)\n",
    "                continue\n",
    "        if(len(listOfFeasibleRestaurants) != 0):\n",
    "            for eachRest in listOfFeasibleRestaurants:\n",
    "                print \"name : \", eachRest[0], \" latitude : \", eachRest[1], \" longitude : \", eachRest[2]\n",
    "        else: \n",
    "            print \"Please increase the radius of search distance!\"\n",
    "    elif(pref == 2):#searching for bus stops\n",
    "        listOfFeasibleBusStops = []\n",
    "        for eachRes in busStopsData:#iterating over each result in busStop data list\n",
    "            try:\n",
    "                busStop = []\n",
    "                resLatitude = float(eachRes['latitude'])\n",
    "                resLongitude = float(eachRes['longitude'])\n",
    "                distFromYourLocation = haversine(lon, lat, resLongitude, resLatitude)\n",
    "                                \n",
    "                if(distFromYourLocation < dist):\n",
    "                    #storing the bus stop's name, latitude and longitude\n",
    "                    busStopName = eachRes['Bus Stops']\n",
    "                    busStop.append(busStopName)\n",
    "                    busStop.append(resLatitude)\n",
    "                    busStop.append(resLongitude)\n",
    "                    listOfFeasibleBusStops.append(busStop)\n",
    "            \n",
    "            except Exception,e:\n",
    "                #print eachRes['id']\n",
    "                #print repr(e)\n",
    "                continue\n",
    "        if(len(listOfFeasibleBusStops) != 0):\n",
    "            for eachBusStop in listOfFeasibleBusStops:\n",
    "                print \"name : \", eachBusStop[0], \" latitude : \", eachBusStop[1], \" longitude : \", eachBusStop[2]\n",
    "        else: \n",
    "            print \"Please increase the radius of search distance!\"\n",
    "\n",
    "    elif(pref == 3):#searching for Parks\n",
    "        listOfFeasibleParks = []\n",
    "        for eachRes in parksData:#iterating over each result in parks data list\n",
    "            try:\n",
    "                parks = []\n",
    "                resLatitude = float(eachRes['latitude'])\n",
    "                resLongitude = float(eachRes['longitude'])\n",
    "                distFromYourLocation = haversine(lon, lat, resLongitude, resLatitude)\n",
    "                if(distFromYourLocation < dist):\n",
    "                    #storing the parks' address, latitude and longitude\n",
    "                    parksAddress = eachRes['Address of the Park']\n",
    "                    parks.append(parksAddress)\n",
    "                    parks.append(resLatitude)\n",
    "                    parks.append(resLongitude)\n",
    "                    listOfFeasibleParks.append(parks)\n",
    "\n",
    "            except Exception,e:\n",
    "                #print eachRes['id']\n",
    "                #print repr(e)\n",
    "                continue\n",
    "\n",
    "        if(len(listOfFeasibleParks) != 0):\n",
    "            for eachPark in listOfFeasibleParks:\n",
    "                print \"Address : \", eachPark[0], \" latitude : \", eachPark[1], \" longitude : \", eachPark[2]\n",
    "        else: \n",
    "            print \"Please increase the radius of search distance!\"\n",
    "                \n",
    "    elif(pref == 4):#searching for Police stations\n",
    "        listOfFeasiblePoliceStations = []\n",
    "        for eachRes in policeStationData:#iterating over each result in police stations data list\n",
    "            try:\n",
    "                policeData = []\n",
    "                resLatitude = float(eachRes['latitude'])\n",
    "                resLongitude = float(eachRes['longitude'])\n",
    "                distFromYourLocation = haversine(lon, lat, resLongitude, resLatitude)\n",
    "            \n",
    "                if(distFromYourLocation < dist):\n",
    "                    #storing the police station's name, latitude and longitude\n",
    "                    policeStationName = eachRes['Police Station Name']                    \n",
    "                    policeData.append(policeStationName)\n",
    "                    policeData.append(resLatitude)\n",
    "                    policeData.append(resLongitude)\n",
    "                    listOfFeasiblePoliceStations.append(policeData)\n",
    "\n",
    "            except Exception,e:\n",
    "                #print eachRes['id']\n",
    "                #print repr(e)\n",
    "                continue\n",
    "                \n",
    "        if(len(listOfFeasiblePoliceStations) != 0):\n",
    "            for eachPoliceStation in listOfFeasiblePoliceStations:\n",
    "                print \"name : \", eachPoliceStation[0], \" latitude : \", eachPoliceStation[1], \" longitude : \", eachPoliceStation[2]\n",
    "        else: \n",
    "            print \"Please increase the radius of search distance!\"\n",
    "\n",
    "\n",
    "    elif(pref == 5):#searching for Fire stations\n",
    "        listOfFeasibleFireStations = []\n",
    "        for eachRes in fireStationsData:#iterating over each result in fire stations data list\n",
    "            try:\n",
    "                fireStation = []\n",
    "                resLatitude = float(eachRes['latitude'])\n",
    "                resLongitude = float(eachRes['longitude'])\n",
    "                distFromYourLocation = haversine(lon, lat, resLongitude, resLatitude)            \n",
    "                if(distFromYourLocation < dist):\n",
    "                    #storing the fire stations's address, latitude and longitude\n",
    "                    fireStationAddress = eachRes['Fire Station Address']                    \n",
    "                    fireStation.append(fireStationAddress)\n",
    "                    fireStation.append(resLatitude)\n",
    "                    fireStation.append(resLongitude)\n",
    "                    listOfFeasibleFireStations.append(fireStation)\n",
    "\n",
    "            except Exception,e:\n",
    "                #print eachRes['id']\n",
    "                #print repr(e)\n",
    "                continue\n",
    "        if(len(listOfFeasibleFireStations) != 0):\n",
    "            for eachFireStation in listOfFeasibleFireStations:\n",
    "                print \"Address : \", eachFireStation[0], \" latitude : \", eachFireStation[1], \" longitude : \", eachFireStation[2]\n",
    "        else: \n",
    "            print \"Please increase the radius of search distance!\"\n",
    "\n",
    "\n",
    "        \n",
    "    else:\n",
    "        print \"invalid input. Please choose a valid option.\"\n",
    "        #askUser()"
   ]
  },
  {
   "cell_type": "code",
   "execution_count": 10,
   "metadata": {
    "collapsed": true
   },
   "outputs": [],
   "source": [
    "def askUser(lat, lon):\n",
    "    print \"What services would you like to search for?\"\n",
    "    print \"1. Restaurants\"\n",
    "    print \"2. Bus Stops\"\n",
    "    print \"3. Parks\"\n",
    "    print \"4. Police Station\"\n",
    "    print \"5. Fire Stations\"\n",
    "    pref = int(raw_input(\"Please choose an option : \"))\n",
    "    dist = float(raw_input(\"Please input the nearby distance : \"))\n",
    "    returnFacilities(pref, dist)\n"
   ]
  },
  {
   "cell_type": "code",
   "execution_count": 11,
   "metadata": {
    "collapsed": false
   },
   "outputs": [
    {
     "name": "stdout",
     "output_type": "stream",
     "text": [
      "What services would you like to search for?\n",
      "1. Restaurants\n",
      "2. Bus Stops\n",
      "3. Parks\n",
      "4. Police Station\n",
      "5. Fire Stations\n",
      "Please choose an option : 1\n",
      "Please input the nearby distance : 2\n",
      "name :  Athithi Grand Restaurant  latitude :  12.8913821986  longitude :  77.5649088621\n",
      "name :  Munch  latitude :  12.8852685278  longitude :  77.5824967772\n",
      "name :  Domino's Pizza  latitude :  12.894064  longitude :  77.56816\n",
      "name :  Delhi Sweets  latitude :  12.8862019622  longitude :  77.5821360201\n",
      "name :  Just Bake  latitude :  12.8834058974  longitude :  77.5831069797\n",
      "name :  New Kabab Zone  latitude :  12.8718418523  longitude :  77.5834047049\n",
      "name :  Gangadkar's  latitude :  12.890763  longitude :  77.564793\n",
      "name :  New Chicken Day  latitude :  12.8895777778  longitude :  77.5634527778\n",
      "name :  SV Juice Corner  latitude :  12.871425  longitude :  77.5833666667\n",
      "name :  Sree Kanya  latitude :  12.8717621007  longitude :  77.5830932334\n",
      "name :  Atithi Biryani Corner  latitude :  12.8767154788  longitude :  77.5839555636\n",
      "name :  Kaggis  latitude :  12.8833833333  longitude :  77.5673055556\n",
      "name :  Delicacy  latitude :  12.8825584107  longitude :  77.5835324451\n"
     ]
    }
   ],
   "source": [
    "askUser(lat, lon)"
   ]
  }
 ],
 "metadata": {
  "kernelspec": {
   "display_name": "Python 2",
   "language": "python",
   "name": "python2"
  },
  "language_info": {
   "codemirror_mode": {
    "name": "ipython",
    "version": 2
   },
   "file_extension": ".py",
   "mimetype": "text/x-python",
   "name": "python",
   "nbconvert_exporter": "python",
   "pygments_lexer": "ipython2",
   "version": "2.7.6"
  }
 },
 "nbformat": 4,
 "nbformat_minor": 0
}
