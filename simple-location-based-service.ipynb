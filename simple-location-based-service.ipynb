{
 "cells": [
  {
   "cell_type": "markdown",
   "metadata": {},
   "source": [
    "# Simple Location Based Sevice\n",
    "\n",
    "This program returns nearby places of interest given the location of a vehicle. "
   ]
  },
  {
   "cell_type": "code",
   "execution_count": 1,
   "metadata": {
    "collapsed": true
   },
   "outputs": [],
   "source": [
    "import json #to import json module\n",
    "from math import radians, cos, sin, asin, sqrt"
   ]
  },
  {
   "cell_type": "code",
   "execution_count": 2,
   "metadata": {
    "collapsed": true
   },
   "outputs": [],
   "source": [
    "def haversine(lon1, lat1, lon2, lat2):\n",
    "    \"\"\"\n",
    "    Calculate the distance between two points on the earth in Kms\n",
    "    \"\"\"\n",
    "    # convert decimal degrees to radians \n",
    "    lon1, lat1, lon2, lat2 = map(radians, [lon1, lat1, lon2, lat2])\n",
    "\n",
    "    # haversine formula \n",
    "    dlon = lon2 - lon1 \n",
    "    dlat = lat2 - lat1 \n",
    "    a = sin(dlat/2)**2 + cos(lat1) * cos(lat2) * sin(dlon/2)**2\n",
    "    c = 2 * asin(sqrt(a)) \n",
    "    r = 6371 # Radius of earth in kilometers. Use 3956 for miles\n",
    "    return c * r"
   ]
  },
  {
   "cell_type": "markdown",
   "metadata": {},
   "source": [
    "Data about restaurants, parks, fire stations, police stations and bus stops are stored in json format. "
   ]
  },
  {
   "cell_type": "code",
   "execution_count": 3,
   "metadata": {
    "collapsed": false
   },
   "outputs": [],
   "source": [
    "with open('restaurants.json') as res_data:#reading json data of restaurants\n",
    "    restaurantsData = json.load(res_data)"
   ]
  },
  {
   "cell_type": "code",
   "execution_count": 4,
   "metadata": {
    "collapsed": false
   },
   "outputs": [],
   "source": [
    "with open('fireStations.json') as res_data:#reading json data of fire stations\n",
    "    fireStationsData = json.load(res_data)"
   ]
  },
  {
   "cell_type": "code",
   "execution_count": 5,
   "metadata": {
    "collapsed": false
   },
   "outputs": [],
   "source": [
    "with open('parks.json') as res_data:#reading json data of parks\n",
    "    parksData = json.load(res_data)"
   ]
  },
  {
   "cell_type": "code",
   "execution_count": 6,
   "metadata": {
    "collapsed": false
   },
   "outputs": [],
   "source": [
    "with open('policeStation.json') as res_data:#reading json data of police stations\n",
    "    policeStationData = json.load(res_data)"
   ]
  },
  {
   "cell_type": "code",
   "execution_count": 7,
   "metadata": {
    "collapsed": true
   },
   "outputs": [],
   "source": [
    "with open('busStops.json') as res_data:#reading json data of bus Stops\n",
    "    busStopsData = json.load(res_data)"
   ]
  },
  {
   "cell_type": "markdown",
   "metadata": {},
   "source": [
    "Latitude and Longitudes of different points in Bangalore. "
   ]
  },
  {
   "cell_type": "code",
   "execution_count": 8,
   "metadata": {
    "collapsed": true
   },
   "outputs": [],
   "source": [
    "#lat = 12.961009 #domlur\n",
    "#lon = 77.637938\n",
    "#lat = 12.952240 #marathalli\n",
    "#lon = 77.700233\n",
    "#lat = 12.937037 #Sony world signal\n",
    "#lon = 77.626488\n",
    "lat = 12.876535\n",
    "lon = 77.566612"
   ]
  },
  {
   "cell_type": "markdown",
   "metadata": {},
   "source": [
    "Menu driven program to find services."
   ]
  },
  {
   "cell_type": "code",
   "execution_count": 9,
   "metadata": {
    "collapsed": true
   },
   "outputs": [],
   "source": [
    "def returnFacilities(pref, dist):\n",
    "    if(pref == 1):#searching for restaurants\n",
    "        listOfFeasibleRestaurants = []\n",
    "        for eachRes in restaurantsData:#iterating over each result in restaurants data list\n",
    "            try:\n",
    "                restData = []\n",
    "                resLatitude = float(eachRes['latitude'])\n",
    "                resLongitude = float(eachRes['longitude'])\n",
    "                distFromYourLocation = haversine(lon, lat, resLongitude, resLatitude)\n",
    "                if(distFromYourLocation < dist):\n",
    "                    #storing the restaurant's name, latitude and longitude \n",
    "                    resName = eachRes['name']\n",
    "                    restData.append(resName)\n",
    "                    restData.append(resLatitude)\n",
    "                    restData.append(resLongitude)\n",
    "                    listOfFeasibleRestaurants.append(restData)\n",
    "            except Exception,e:\n",
    "                #print eachRes['id']\n",
    "                #print repr(e)\n",
    "                continue\n",
    "        if(len(listOfFeasibleRestaurants) != 0):\n",
    "            for eachRest in listOfFeasibleRestaurants:\n",
    "                print \"name : \", eachRest[0], \" latitude : \", eachRest[1], \" longitude : \", eachRest[2]\n",
    "        else: \n",
    "            print \"Please increase the radius of search distance!\"\n",
    "    elif(pref == 2):#searching for bus stops\n",
    "        listOfFeasibleBusStops = []\n",
    "        for eachRes in busStopsData:#iterating over each result in busStop data list\n",
    "            try:\n",
    "                busStop = []\n",
    "                resLatitude = float(eachRes['latitude'])\n",
    "                resLongitude = float(eachRes['longitude'])\n",
    "                distFromYourLocation = haversine(lon, lat, resLongitude, resLatitude)\n",
    "                                \n",
    "                if(distFromYourLocation < dist):\n",
    "                    #storing the bus stop's name, latitude and longitude\n",
    "                    busStopName = eachRes['Bus Stops']\n",
    "                    busStop.append(busStopName)\n",
    "                    busStop.append(resLatitude)\n",
    "                    busStop.append(resLongitude)\n",
    "                    listOfFeasibleBusStops.append(busStop)\n",
    "            \n",
    "            except Exception,e:\n",
    "                #print eachRes['id']\n",
    "                #print repr(e)\n",
    "                continue\n",
    "        if(len(listOfFeasibleBusStops) != 0):\n",
    "            for eachBusStop in listOfFeasibleBusStops:\n",
    "                print \"name : \", eachBusStop[0], \" latitude : \", eachBusStop[1], \" longitude : \", eachBusStop[2]\n",
    "        else: \n",
    "            print \"Please increase the radius of search distance!\"\n",
    "\n",
    "    elif(pref == 3):#searching for Parks\n",
    "        listOfFeasibleParks = []\n",
    "        for eachRes in parksData:#iterating over each result in parks data list\n",
    "            try:\n",
    "                parks = []\n",
    "                resLatitude = float(eachRes['latitude'])\n",
    "                resLongitude = float(eachRes['longitude'])\n",
    "                distFromYourLocation = haversine(lon, lat, resLongitude, resLatitude)\n",
    "                if(distFromYourLocation < dist):\n",
    "                    #storing the parks' address, latitude and longitude\n",
    "                    parksAddress = eachRes['Address of the Park']\n",
    "                    parks.append(parksAddress)\n",
    "                    parks.append(resLatitude)\n",
    "                    parks.append(resLongitude)\n",
    "                    listOfFeasibleParks.append(parks)\n",
    "\n",
    "            except Exception,e:\n",
    "                #print eachRes['id']\n",
    "                #print repr(e)\n",
    "                continue\n",
    "\n",
    "        if(len(listOfFeasibleParks) != 0):\n",
    "            for eachPark in listOfFeasibleParks:\n",
    "                print \"Address : \", eachPark[0], \" latitude : \", eachPark[1], \" longitude : \", eachPark[2]\n",
    "        else: \n",
    "            print \"Please increase the radius of search distance!\"\n",
    "                \n",
    "    elif(pref == 4):#searching for Police stations\n",
    "        listOfFeasiblePoliceStations = []\n",
    "        for eachRes in policeStationData:#iterating over each result in police stations data list\n",
    "            try:\n",
    "                policeData = []\n",
    "                resLatitude = float(eachRes['latitude'])\n",
    "                resLongitude = float(eachRes['longitude'])\n",
    "                distFromYourLocation = haversine(lon, lat, resLongitude, resLatitude)\n",
    "            \n",
    "                if(distFromYourLocation < dist):\n",
    "                    #storing the police station's name, latitude and longitude\n",
    "                    policeStationName = eachRes['Police Station Name']                    \n",
    "                    policeData.append(policeStationName)\n",
    "                    policeData.append(resLatitude)\n",
    "                    policeData.append(resLongitude)\n",
    "                    listOfFeasiblePoliceStations.append(policeData)\n",
    "\n",
    "            except Exception,e:\n",
    "                #print eachRes['id']\n",
    "                #print repr(e)\n",
    "                continue\n",
    "                \n",
    "        if(len(listOfFeasiblePoliceStations) != 0):\n",
    "            for eachPoliceStation in listOfFeasiblePoliceStations:\n",
    "                print \"name : \", eachPoliceStation[0], \" latitude : \", eachPoliceStation[1], \" longitude : \", eachPoliceStation[2]\n",
    "        else: \n",
    "            print \"Please increase the radius of search distance!\"\n",
    "\n",
    "\n",
    "    elif(pref == 5):#searching for Fire stations\n",
    "        listOfFeasibleFireStations = []\n",
    "        for eachRes in fireStationsData:#iterating over each result in fire stations data list\n",
    "            try:\n",
    "                fireStation = []\n",
    "                resLatitude = float(eachRes['latitude'])\n",
    "                resLongitude = float(eachRes['longitude'])\n",
    "                distFromYourLocation = haversine(lon, lat, resLongitude, resLatitude)            \n",
    "                if(distFromYourLocation < dist):\n",
    "                    #storing the fire stations's address, latitude and longitude\n",
    "                    fireStationAddress = eachRes['Fire Station Address']                    \n",
    "                    fireStation.append(fireStationAddress)\n",
    "                    fireStation.append(resLatitude)\n",
    "                    fireStation.append(resLongitude)\n",
    "                    listOfFeasibleFireStations.append(fireStation)\n",
    "\n",
    "            except Exception,e:\n",
    "                #print eachRes['id']\n",
    "                #print repr(e)\n",
    "                continue\n",
    "        if(len(listOfFeasibleFireStations) != 0):\n",
    "            for eachFireStation in listOfFeasibleFireStations:\n",
    "                print \"Address : \", eachFireStation[0], \" latitude : \", eachFireStation[1], \" longitude : \", eachFireStation[2]\n",
    "        else: \n",
    "            print \"Please increase the radius of search distance!\"\n",
    "\n",
    "\n",
    "        \n",
    "    else:\n",
    "        print \"invalid input. Please choose a valid option.\"\n",
    "        #askUser()"
   ]
  },
  {
   "cell_type": "code",
   "execution_count": 10,
   "metadata": {
    "collapsed": true
   },
   "outputs": [],
   "source": [
    "def askUser(lat, lon):\n",
    "    print \"What services would you like to search for?\"\n",
    "    print \"1. Restaurants\"\n",
    "    print \"2. Bus Stops\"\n",
    "    print \"3. Parks\"\n",
    "    print \"4. Police Station\"\n",
    "    print \"5. Fire Stations\"\n",
    "    pref = int(raw_input(\"Please choose an option : \"))\n",
    "    dist = float(raw_input(\"Please input the nearby distance : \"))\n",
    "    returnFacilities(pref, dist)\n"
   ]
  },
  {
   "cell_type": "code",
   "execution_count": 11,
   "metadata": {
    "collapsed": false
   },
   "outputs": [
    {
     "name": "stdout",
     "output_type": "stream",
     "text": [
      "What services would you like to search for?\n",
      "1. Restaurants\n",
      "2. Bus Stops\n",
      "3. Parks\n",
      "4. Police Station\n",
      "5. Fire Stations\n",
      "Please choose an option : 1\n",
      "Please input the nearby distance : 3\n",
      "name :  Grasshopper  latitude :  12.8638008643  longitude :  77.5898011029\n",
      "name :  The Green Chillies  latitude :  12.8920152586  longitude :  77.5814617798\n",
      "name :  Kakal-Kai Ruchi  latitude :  12.8874122188  longitude :  77.5819895044\n",
      "name :  Adithya  latitude :  12.8928058461  longitude :  77.5817839801\n",
      "name :  Kabab Mehal  latitude :  12.8864428374  longitude :  77.5820367783\n",
      "name :  Goli Vada Pav No. 1  latitude :  12.891831  longitude :  77.581893\n",
      "name :  Mango Tree  latitude :  12.889420258  longitude :  77.5848004594\n",
      "name :  Athithi Grand Restaurant  latitude :  12.8913821986  longitude :  77.5649088621\n",
      "name :  Mira's Dial-A-Cake  latitude :  12.880539  longitude :  77.543736\n",
      "name :  Multi Cakes  latitude :  12.8925195485  longitude :  77.5818761811\n",
      "name :  Moksha Family Bar and Restaurant  latitude :  12.895565  longitude :  77.569632\n",
      "name :  Munch  latitude :  12.8852685278  longitude :  77.5824967772\n",
      "name :  Domino's Pizza  latitude :  12.894064  longitude :  77.56816\n",
      "name :  Vasudev Adiga's  latitude :  12.8822956336  longitude :  77.5466182083\n",
      "name :  HKGN  latitude :  12.9027309537  longitude :  77.5615081564\n",
      "name :  Sri Krishna Upahara  latitude :  12.9029138889  longitude :  77.5615777778\n",
      "name :  Cool Point  latitude :  12.9030195273  longitude :  77.5616426021\n",
      "name :  Domino's Pizza  latitude :  12.8892872389  longitude :  77.581778951\n",
      "name :  Rolls On Wheels  latitude :  12.8921943584  longitude :  77.5817896798\n",
      "name :  Beijing Bites  latitude :  12.8884750697  longitude :  77.5818235427\n",
      "name :  Kanti Sweets  latitude :  12.8885286697  longitude :  77.5819559768\n",
      "name :  Holiday Village  latitude :  12.8671959505  longitude :  77.5432771817\n",
      "name :  Cafe Coffee Day  latitude :  12.8923597315  longitude :  77.581888251\n",
      "name :  Five Star Chicken  latitude :  12.8923518877  longitude :  77.5819284841\n",
      "name :  Nandi Bidadi Thatte Idli  latitude :  12.8862138889  longitude :  77.5821916667\n",
      "name :  Delhi Sweets  latitude :  12.8862019622  longitude :  77.5821360201\n",
      "name :  Maiyas Express  latitude :  12.8918472222  longitude :  77.5795277778\n",
      "name :  Fine Flavors  latitude :  12.893183327  longitude :  77.5583827123\n",
      "name :  Just Bake  latitude :  12.8834058974  longitude :  77.5831069797\n",
      "name :  Juicy Momos  latitude :  12.887311555  longitude :  77.5818791986\n",
      "name :  New Kabab Zone  latitude :  12.8718418523  longitude :  77.5834047049\n",
      "name :  Cafe Hops  latitude :  12.894004  longitude :  77.577909\n",
      "name :  Punjabi Food Corner  latitude :  12.8925028804  longitude :  77.5819851458\n",
      "name :  Handi Restaurant  latitude :  12.8935833333  longitude :  77.5579444444\n",
      "name :  Hakuna Matata  latitude :  12.8941281707  longitude :  77.5863886625\n",
      "name :  KFC  latitude :  12.8925907961  longitude :  77.5817782804\n",
      "name :  Skytouch Le Cafe  latitude :  12.8920175464  longitude :  77.5786390901\n",
      "name :  Ruchi Rayalaseema  latitude :  12.8925499431  longitude :  77.5818594173\n",
      "name :  Coffee Shop @ Panchavati Comforts  latitude :  12.8932120874  longitude :  77.5585443154\n",
      "name :  Adi's Cake N Cafe  latitude :  12.8928722222  longitude :  77.5838916667\n",
      "name :  Rajasthani Sweets & Snacks  latitude :  12.8809583333  longitude :  77.5458138889\n",
      "name :  Tejaswini Deluxe Family  latitude :  12.8783805556  longitude :  77.5427555556\n",
      "name :  Bengaluru Restaurant  latitude :  12.8813972222  longitude :  77.5459361111\n",
      "name :  New Biryani Mane  latitude :  12.8798963097  longitude :  77.5459070876\n",
      "name :  T Cafe  latitude :  12.8813611111  longitude :  77.5458972222\n",
      "name :  Kolkatta Famous Kati Rolls  latitude :  12.8812861111  longitude :  77.5458611111\n",
      "name :  Hotel Kalpana  latitude :  12.8804472222  longitude :  77.5459361111\n",
      "name :  Five Star Chicken  latitude :  12.8801666667  longitude :  77.5457833333\n",
      "name :  Goli Vada Pav No. 1  latitude :  12.8803722222  longitude :  77.5461416667\n",
      "name :  Gangadkar's  latitude :  12.890763  longitude :  77.564793\n",
      "name :  Kabab Mahal  latitude :  12.8812490985  longitude :  77.5462118536\n",
      "name :  New Chicken Day  latitude :  12.8895777778  longitude :  77.5634527778\n",
      "name :  Queens Court Garden  latitude :  12.8732722222  longitude :  77.540025\n",
      "name :  Desi Wok  latitude :  12.8877344736  longitude :  77.582372725\n",
      "name :  Kulfi  Corner  latitude :  12.8874279067  longitude :  77.5823110342\n",
      "name :  Papa John's Pizza  latitude :  12.8912749998  longitude :  77.5819308311\n",
      "name :  SV Juice Corner  latitude :  12.871425  longitude :  77.5833666667\n",
      "name :  Sree Kanya  latitude :  12.8717621007  longitude :  77.5830932334\n",
      "name :  Atithi Biryani Corner  latitude :  12.8767154788  longitude :  77.5839555636\n",
      "name :  Bengalooru Tiffany's  latitude :  12.8916145714  longitude :  77.5796077028\n",
      "name :  Ande Ka Funda  latitude :  12.8970734716  longitude :  77.5820693001\n",
      "name :  Sri Lakshmi Curries & Pickles  latitude :  12.8964793158  longitude :  77.5818111375\n",
      "name :  Cafe Hut - Tea  latitude :  12.880539  longitude :  77.543736\n",
      "name :  Rich Cafe  latitude :  12.8878217372  longitude :  77.582212463\n",
      "name :  Pure Punjabi Paranthas  latitude :  12.896845  longitude :  77.580119\n",
      "name :  Panda Boy  latitude :  12.896845  longitude :  77.580119\n",
      "name :  Le Pont - Cafe & Patisserie  latitude :  12.894079801  longitude :  77.5863467529\n",
      "name :  A.S House  latitude :  12.8941651015  longitude :  77.5817467645\n",
      "name :  Chocs and More  latitude :  12.8911972222  longitude :  77.5813361111\n",
      "name :  Kulfi & More  latitude :  12.896845  longitude :  77.580119\n",
      "name :  Sam's Lil' Bites  latitude :  12.896845  longitude :  77.580119\n",
      "name :  Kaggis  latitude :  12.8833833333  longitude :  77.5673055556\n",
      "name :  Mom's Momo  latitude :  12.896845  longitude :  77.580119\n",
      "name :  Delicacy  latitude :  12.8825584107  longitude :  77.5835324451\n",
      "name :  Vinaya Coffee Moments  latitude :  12.8876246586  longitude :  77.5818503648\n",
      "name :  Brunchizz  latitude :  12.8764134742  longitude :  77.5915354863\n",
      "name :  Greens Veg  latitude :  12.9018198041  longitude :  77.558070235\n",
      "name :  Gowdara Mudde Mane  latitude :  12.8826950285  longitude :  77.5463613868\n",
      "name :  Chatori Gali  latitude :  12.8923806482  longitude :  77.579456158\n",
      "name :  Flavour of Shanghai  latitude :  12.8856456933  longitude :  77.5453354418\n",
      "name :  Black Mug Cafe  latitude :  12.8609  longitude :  77.585258\n"
     ]
    }
   ],
   "source": [
    "askUser(lat, lon)"
   ]
  }
 ],
 "metadata": {
  "kernelspec": {
   "display_name": "Python 2",
   "language": "python",
   "name": "python2"
  },
  "language_info": {
   "codemirror_mode": {
    "name": "ipython",
    "version": 2
   },
   "file_extension": ".py",
   "mimetype": "text/x-python",
   "name": "python",
   "nbconvert_exporter": "python",
   "pygments_lexer": "ipython2",
   "version": "2.7.6"
  }
 },
 "nbformat": 4,
 "nbformat_minor": 0
}
